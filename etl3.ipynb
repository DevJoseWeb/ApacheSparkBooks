{
 "cells": [
  {
   "cell_type": "code",
   "execution_count": 20,
   "metadata": {},
   "outputs": [],
   "source": [
    "import findspark\n",
    "findspark.init('/opt/spark-2.4.4/')\n",
    "import pyspark\n",
    "from pyspark.sql.types import StructType, StructField\n",
    "from pyspark.sql.types import DoubleType, IntegerType, StringType\n",
    "from pyspark.sql import SparkSession\n",
    "\n"
   ]
  },
  {
   "cell_type": "code",
   "execution_count": 21,
   "metadata": {},
   "outputs": [
    {
     "name": "stdout",
     "output_type": "stream",
     "text": [
      "Total Records = 4\n",
      "+------+------+-----------+\n",
      "|  nome| idade|      país |\n",
      "+------+------+-----------+\n",
      "| adnan|    40| Paquistão |\n",
      "|  maaz|     9| Paquistão |\n",
      "| musab|     4| Paquistão |\n",
      "|ayesha|    32|  Paquistão|\n",
      "+------+------+-----------+\n",
      "\n"
     ]
    }
   ],
   "source": [
    "if __name__ == '__main__':\n",
    "    scSpark = SparkSession \\\n",
    "        .builder \\\n",
    "        .appName(\"reading csv\") \\\n",
    "        .getOrCreate()\n",
    "    \n",
    "    data_file = '/home/jr/Documents/spark/data*.csv'\n",
    "    sdfData = scSpark.read.csv(data_file, header=True, sep=\",\").cache()\n",
    "    \n",
    "    print('Total Records = {}'.format(sdfData.count()))\n",
    "    \n",
    "    sdfData.show()\n",
    "    "
   ]
  },
  {
   "cell_type": "code",
   "execution_count": null,
   "metadata": {},
   "outputs": [],
   "source": [
    "data_file = '/home/jr/Documents/spark/supermarket_sales*.csv'\n",
    "    sdfData = scSpark.read.csv(data_file, header=True, sep=\",\").cache()\n",
    "    gender = sdfData.groupBy('Gender').count()\n",
    "    print(gender.show())\n",
    "    "
   ]
  },
  {
   "cell_type": "code",
   "execution_count": null,
   "metadata": {},
   "outputs": [],
   "source": [
    "    sdfData.registerTempTable (\"sales\") \n",
    "    output = scSpark.sql ('SELECT * from sales') \n",
    "    output.show ()"
   ]
  },
  {
   "cell_type": "code",
   "execution_count": null,
   "metadata": {},
   "outputs": [],
   "source": [
    "    output = scSpark.sql ('SELECT * from sales WHERE `Preço unitário` <15 AND Quantidade <10') \n",
    "    output.show ()"
   ]
  },
  {
   "cell_type": "code",
   "execution_count": null,
   "metadata": {},
   "outputs": [],
   "source": [
    "    output = scSpark.sql('SELECT COUNT(*) as total, City from sales GROUP BY City')\n",
    "    output.show()"
   ]
  },
  {
   "cell_type": "code",
   "execution_count": null,
   "metadata": {},
   "outputs": [],
   "source": [
    "scSpark = SparkSession \\\n",
    "        .builder \\\n",
    "        .appName(\"reading csv\") \\\n",
    "        .config(\"spark.driver.extraClassPath\", \"/usr/local/spark/jars/mysql-connector-java-8.0.16.jar\") \\\n",
    "        .getOrCreate()"
   ]
  },
  {
   "cell_type": "code",
   "execution_count": null,
   "metadata": {},
   "outputs": [],
   "source": [
    "output = scSpark.sql('SELECT COUNT(*) as total, City from sales GROUP BY City')\n",
    "    output.show()\n",
    "    output.write.format('jdbc').options(\n",
    "        url='jdbc:mysql://localhost/spark',\n",
    "        driver='com.mysql.cj.jdbc.Driver',\n",
    "        dbtable='city_info',\n",
    "        user='root',\n",
    "        password='root').mode('append').save()"
   ]
  }
 ],
 "metadata": {
  "kernelspec": {
   "display_name": "Python 3",
   "language": "python",
   "name": "python3"
  },
  "language_info": {
   "codemirror_mode": {
    "name": "ipython",
    "version": 3
   },
   "file_extension": ".py",
   "mimetype": "text/x-python",
   "name": "python",
   "nbconvert_exporter": "python",
   "pygments_lexer": "ipython3",
   "version": "3.7.3"
  }
 },
 "nbformat": 4,
 "nbformat_minor": 2
}
